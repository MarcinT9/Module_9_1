{
 "cells": [
  {
   "cell_type": "code",
   "execution_count": 119,
   "id": "a1a7523a",
   "metadata": {},
   "outputs": [],
   "source": [
    "import pandas as pd\n",
    "import matplotlib.pyplot as plt\n",
    "import numpy as np"
   ]
  },
  {
   "cell_type": "markdown",
   "id": "a54c6613",
   "metadata": {},
   "source": [
    "Dorawanie bazy filmów i gatunków:"
   ]
  },
  {
   "cell_type": "code",
   "execution_count": 120,
   "id": "b44c0cc2",
   "metadata": {},
   "outputs": [],
   "source": [
    "genres = pd.read_csv('tmdb_genres.csv')\n",
    "movies = pd.read_csv('tmdb_movies.csv')"
   ]
  },
  {
   "cell_type": "markdown",
   "id": "16371ca7",
   "metadata": {},
   "source": [
    "Zwróć listę 10 najwyżej ocenianych filmów (vote_average), których liczba głosów (vote_count) jest większa od 3. kwartyla rozkładu liczby głosów."
   ]
  },
  {
   "cell_type": "code",
   "execution_count": 121,
   "id": "7161e27d",
   "metadata": {},
   "outputs": [
    {
     "name": "stderr",
     "output_type": "stream",
     "text": [
      "C:\\Users\\Marcin\\AppData\\Local\\Temp\\ipykernel_4104\\2908107918.py:5: SettingWithCopyWarning: \n",
      "A value is trying to be set on a copy of a slice from a DataFrame\n",
      "\n",
      "See the caveats in the documentation: https://pandas.pydata.org/pandas-docs/stable/user_guide/indexing.html#returning-a-view-versus-a-copy\n",
      "  t1.sort_values(by='vote_average', ascending=False, inplace=True) # sortuję listę po średniej wartości głosów malejąco\n"
     ]
    },
    {
     "data": {
      "text/html": [
       "<div>\n",
       "<style scoped>\n",
       "    .dataframe tbody tr th:only-of-type {\n",
       "        vertical-align: middle;\n",
       "    }\n",
       "\n",
       "    .dataframe tbody tr th {\n",
       "        vertical-align: top;\n",
       "    }\n",
       "\n",
       "    .dataframe thead th {\n",
       "        text-align: right;\n",
       "    }\n",
       "</style>\n",
       "<table border=\"1\" class=\"dataframe\">\n",
       "  <thead>\n",
       "    <tr style=\"text-align: right;\">\n",
       "      <th></th>\n",
       "      <th>original_title</th>\n",
       "      <th>vote_average</th>\n",
       "    </tr>\n",
       "  </thead>\n",
       "  <tbody>\n",
       "    <tr>\n",
       "      <th>1881</th>\n",
       "      <td>The Shawshank Redemption</td>\n",
       "      <td>8.50</td>\n",
       "    </tr>\n",
       "    <tr>\n",
       "      <th>3337</th>\n",
       "      <td>The Godfather</td>\n",
       "      <td>8.40</td>\n",
       "    </tr>\n",
       "    <tr>\n",
       "      <th>2294</th>\n",
       "      <td>千と千尋の神隠し</td>\n",
       "      <td>8.30</td>\n",
       "    </tr>\n",
       "    <tr>\n",
       "      <th>3865</th>\n",
       "      <td>Whiplash</td>\n",
       "      <td>8.30</td>\n",
       "    </tr>\n",
       "    <tr>\n",
       "      <th>2731</th>\n",
       "      <td>The Godfather: Part II</td>\n",
       "      <td>8.30</td>\n",
       "    </tr>\n",
       "    <tr>\n",
       "      <th>3232</th>\n",
       "      <td>Pulp Fiction</td>\n",
       "      <td>8.30</td>\n",
       "    </tr>\n",
       "    <tr>\n",
       "      <th>1818</th>\n",
       "      <td>Schindler's List</td>\n",
       "      <td>8.30</td>\n",
       "    </tr>\n",
       "    <tr>\n",
       "      <th>662</th>\n",
       "      <td>Fight Club</td>\n",
       "      <td>8.30</td>\n",
       "    </tr>\n",
       "    <tr>\n",
       "      <th>2170</th>\n",
       "      <td>Psycho</td>\n",
       "      <td>8.20</td>\n",
       "    </tr>\n",
       "    <tr>\n",
       "      <th>1847</th>\n",
       "      <td>GoodFellas</td>\n",
       "      <td>8.20</td>\n",
       "    </tr>\n",
       "  </tbody>\n",
       "</table>\n",
       "</div>"
      ],
      "text/plain": [
       "                original_title  vote_average\n",
       "1881  The Shawshank Redemption          8.50\n",
       "3337             The Godfather          8.40\n",
       "2294                  千と千尋の神隠し          8.30\n",
       "3865                  Whiplash          8.30\n",
       "2731    The Godfather: Part II          8.30\n",
       "3232              Pulp Fiction          8.30\n",
       "1818          Schindler's List          8.30\n",
       "662                 Fight Club          8.30\n",
       "2170                    Psycho          8.20\n",
       "1847                GoodFellas          8.20"
      ]
     },
     "execution_count": 121,
     "metadata": {},
     "output_type": "execute_result"
    }
   ],
   "source": [
    "third_quan = movies['vote_count'].quantile(0.75) # obliczam 3 kwantyl dla rozkładu liczby głosów\n",
    "\n",
    "t1 = movies[movies['vote_count'] > third_quan] # oceniam, które filmy mają vote_count większą od third_quan\n",
    "\n",
    "t1.sort_values(by='vote_average', ascending=False, inplace=True) # sortuję listę po średniej wartości głosów malejąco\n",
    "\n",
    "t1[['original_title','vote_average']].iloc[:10] # wyświetlam 1o najwyżej ocenianych filmów "
   ]
  },
  {
   "cell_type": "markdown",
   "id": "c848f73a",
   "metadata": {},
   "source": [
    "Pogrupuj tabelę w taki sposób, aby otrzymać średni przychód (revenue) oraz średni budżet (budget) w danym roku dla filmów opublikowanych od 2010 (włącznie) do 2016 roku (włącznie). Następnie na tej podstawie stwórz wykres, w którym średnie przychody są wykresem kolumnowym, a średni budżet wykresem liniowym na tych samych osiach. Sformatuj odpowiednio oś X oraz oś Y. Dodaj tytuł wykresu, oraz legendę, która znajduje się w prawym górnym rogu płótna, lecz poza obszarem osi."
   ]
  },
  {
   "cell_type": "code",
   "execution_count": 122,
   "id": "6f7d0a73",
   "metadata": {},
   "outputs": [
    {
     "data": {
      "image/png": "[encoded data removed]",
      "text/plain": [
       "<Figure size 432x288 with 2 Axes>"
      ]
     },
     "metadata": {
      "needs_background": "light"
     },
     "output_type": "display_data"
    }
   ],
   "source": [
    "movies['release_date'] = pd.to_datetime(movies['release_date'], format='%Y-%m-%d') # zmieniam foramt daty,aby móc ją wykorzystać do grupowania\n",
    "\n",
    "t2 = movies[(movies['release_date'] >= '2010-01-01') & (movies['release_date'] <= '2016-12-31')] #tabela filmów z przedziału 2010-2016\n",
    "\n",
    "t3 = t2.groupby(t2['release_date'].apply(lambda x: x.year)).mean() # grupujemy tabelę, aby otrzymać średnią wartości w poszczególnych latach (x.year)\n",
    "\n",
    "x = t3.index # w tabeli t3 indeksem są lata\n",
    "y = t3['budget'] # ustalam y dla wykresu ze średnią budżetu\n",
    "y2 = t3['revenue'] # ustalam y dla wykresu ze średnią przychodu\n",
    "\n",
    "# tworzę wykres\n",
    "\n",
    "fig, ax= plt.subplots()\n",
    "axes = fig.add_axes([0,0,1,1])\n",
    "axes.plot(x, y, color='red', linewidth = 3, label='budget')\n",
    "axes.bar(x, y2, color='blue', alpha = 0.7, label='revenue')\n",
    "plt.title('Średni przychód i budżet filmów w latach 2010-2016')\n",
    "\n",
    "def million(x, pos):  # funkcja zmieniająca opis osi y\n",
    "    return '{:2.1f}M'.format(x*1e-6)\n",
    "\n",
    "formatter = plt.FuncFormatter(million)\n",
    "axes.yaxis.set_major_formatter(formatter) # zmieniamy opis osi y\n",
    "\n",
    "axes.legend(loc=(1.05,0.84))\n",
    "plt.show()\n"
   ]
  },
  {
   "cell_type": "markdown",
   "id": "7b593e67",
   "metadata": {},
   "source": [
    "Baza filmów zawiera kolumnę z id gatunku (genre_id). Na tej podstawie połącz ze sobą bazę filmów z bazą gatunków, tak aby w bazie filmów można było odczytać nazwę gatunku filmu."
   ]
  },
  {
   "cell_type": "code",
   "execution_count": 129,
   "id": "05f0107c",
   "metadata": {},
   "outputs": [
    {
     "name": "stderr",
     "output_type": "stream",
     "text": [
      "C:\\Users\\Marcin\\AppData\\Local\\Temp\\ipykernel_4104\\4171961466.py:2: FutureWarning: Passing 'suffixes' which cause duplicate columns {'genres_x'} in the result is deprecated and will raise a MergeError in a future version.\n",
      "  movies = movies.merge(genres, how='inner', on='genre_id', copy=False)\n"
     ]
    },
    {
     "data": {
      "text/html": [
       "<div>\n",
       "<style scoped>\n",
       "    .dataframe tbody tr th:only-of-type {\n",
       "        vertical-align: middle;\n",
       "    }\n",
       "\n",
       "    .dataframe tbody tr th {\n",
       "        vertical-align: top;\n",
       "    }\n",
       "\n",
       "    .dataframe thead th {\n",
       "        text-align: right;\n",
       "    }\n",
       "</style>\n",
       "<table border=\"1\" class=\"dataframe\">\n",
       "  <thead>\n",
       "    <tr style=\"text-align: right;\">\n",
       "      <th></th>\n",
       "      <th>original_title</th>\n",
       "      <th>genres_x</th>\n",
       "      <th>genres_x</th>\n",
       "      <th>genres_x</th>\n",
       "    </tr>\n",
       "  </thead>\n",
       "  <tbody>\n",
       "    <tr>\n",
       "      <th>0</th>\n",
       "      <td>Avatar</td>\n",
       "      <td>Action</td>\n",
       "      <td>Action</td>\n",
       "      <td>Action</td>\n",
       "    </tr>\n",
       "  </tbody>\n",
       "</table>\n",
       "</div>"
      ],
      "text/plain": [
       "  original_title genres_x genres_x genres_x\n",
       "0         Avatar   Action   Action   Action"
      ]
     },
     "execution_count": 129,
     "metadata": {},
     "output_type": "execute_result"
    }
   ],
   "source": [
    "genres.rename(columns={'Unnamed: 0': 'genre_id'}, inplace=True)\n",
    "movies = movies.merge(genres, how='inner', on='genre_id', copy=False)\n",
    "movies[['original_title', 'genres_x']].head(1) # wy tym wypadku coś nie działa duplikują cię kolumny z gatunkiem filmów"
   ]
  },
  {
   "cell_type": "markdown",
   "id": "11b12903",
   "metadata": {},
   "source": [
    "Jaki gatunek filmu z bazy pojawia się w niej najczęściej? Ile filmów tego gatunku znajduje się w bazie?"
   ]
  },
  {
   "cell_type": "code",
   "execution_count": 143,
   "id": "09a2fdbb",
   "metadata": {},
   "outputs": [],
   "source": [
    "counts = movies['genres_x'].value_counts()\n",
    "counts.loc[counts == counts.max()] # nie działa przez bład w poprzednim zadaniu"
   ]
  },
  {
   "cell_type": "markdown",
   "id": "f2ac058e",
   "metadata": {},
   "source": [
    "Filmy, którego gatunku trwają średnio najdłużej (runtime)?"
   ]
  },
  {
   "cell_type": "code",
   "execution_count": 144,
   "id": "27821ad1",
   "metadata": {},
   "outputs": [],
   "source": [
    "run_time = movies.groupby('genres_x').mean()\n",
    "run_time['runtime'].sort_values(ascending=False)"
   ]
  },
  {
   "cell_type": "markdown",
   "id": "d7b79090",
   "metadata": {},
   "source": [
    "Stwórz histogram czasu trwania filmów z gatunku, który cechuje się największym średnim czasem trwania."
   ]
  },
  {
   "cell_type": "code",
   "execution_count": null,
   "id": "e7c451f8",
   "metadata": {},
   "outputs": [],
   "source": [
    "longest_movie = movie"
   ]
  }
 ],
 "metadata": {
  "kernelspec": {
   "display_name": "Python 3 (ipykernel)",
   "language": "python",
   "name": "python3"
  },
  "language_info": {
   "codemirror_mode": {
    "name": "ipython",
    "version": 3
   },
   "file_extension": ".py",
   "mimetype": "text/x-python",
   "name": "python",
   "nbconvert_exporter": "python",
   "pygments_lexer": "ipython3",
   "version": "3.10.5"
  }
 },
 "nbformat": 4,
 "nbformat_minor": 5
}
