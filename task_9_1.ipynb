{
 "cells": [
  {
   "cell_type": "code",
   "execution_count": 2,
   "id": "a1a7523a",
   "metadata": {},
   "outputs": [],
   "source": [
    "import pandas as pd\n",
    "import matplotlib.pyplot as plt\n",
    "import numpy as np"
   ]
  },
  {
   "cell_type": "markdown",
   "id": "a54c6613",
   "metadata": {},
   "source": [
    "Dorawanie bazy filmów i gatunków:"
   ]
  },
  {
   "cell_type": "code",
   "execution_count": 3,
   "id": "b44c0cc2",
   "metadata": {},
   "outputs": [],
   "source": [
    "genres = pd.read_csv('tmdb_genres.csv')\n",
    "movies = pd.read_csv('tmdb_movies.csv')"
   ]
  },
  {
   "cell_type": "markdown",
   "id": "16371ca7",
   "metadata": {},
   "source": [
    "Zwróć listę 10 najwyżej ocenianych filmów (vote_average), których liczba głosów (vote_count) jest większa od 3. kwartyla rozkładu liczby głosów."
   ]
  },
  {
   "cell_type": "code",
   "execution_count": 4,
   "id": "7161e27d",
   "metadata": {},
   "outputs": [
    {
     "name": "stderr",
     "output_type": "stream",
     "text": [
      "C:\\Users\\Marcin\\AppData\\Local\\Temp\\ipykernel_9572\\2826988273.py:5: SettingWithCopyWarning: \n",
      "A value is trying to be set on a copy of a slice from a DataFrame\n",
      "\n",
      "See the caveats in the documentation: https://pandas.pydata.org/pandas-docs/stable/user_guide/indexing.html#returning-a-view-versus-a-copy\n",
      "  third_quan1.sort_values(by='vote_average', ascending=False, inplace=True) # sortuję listę po średniej wartości głosów malejąco\n"
     ]
    },
    {
     "data": {
      "text/html": [
       "<div>\n",
       "<style scoped>\n",
       "    .dataframe tbody tr th:only-of-type {\n",
       "        vertical-align: middle;\n",
       "    }\n",
       "\n",
       "    .dataframe tbody tr th {\n",
       "        vertical-align: top;\n",
       "    }\n",
       "\n",
       "    .dataframe thead th {\n",
       "        text-align: right;\n",
       "    }\n",
       "</style>\n",
       "<table border=\"1\" class=\"dataframe\">\n",
       "  <thead>\n",
       "    <tr style=\"text-align: right;\">\n",
       "      <th></th>\n",
       "      <th>original_title</th>\n",
       "      <th>vote_average</th>\n",
       "    </tr>\n",
       "  </thead>\n",
       "  <tbody>\n",
       "    <tr>\n",
       "      <th>1881</th>\n",
       "      <td>The Shawshank Redemption</td>\n",
       "      <td>8.5</td>\n",
       "    </tr>\n",
       "    <tr>\n",
       "      <th>3337</th>\n",
       "      <td>The Godfather</td>\n",
       "      <td>8.4</td>\n",
       "    </tr>\n",
       "    <tr>\n",
       "      <th>2294</th>\n",
       "      <td>千と千尋の神隠し</td>\n",
       "      <td>8.3</td>\n",
       "    </tr>\n",
       "    <tr>\n",
       "      <th>3865</th>\n",
       "      <td>Whiplash</td>\n",
       "      <td>8.3</td>\n",
       "    </tr>\n",
       "    <tr>\n",
       "      <th>2731</th>\n",
       "      <td>The Godfather: Part II</td>\n",
       "      <td>8.3</td>\n",
       "    </tr>\n",
       "    <tr>\n",
       "      <th>3232</th>\n",
       "      <td>Pulp Fiction</td>\n",
       "      <td>8.3</td>\n",
       "    </tr>\n",
       "    <tr>\n",
       "      <th>1818</th>\n",
       "      <td>Schindler's List</td>\n",
       "      <td>8.3</td>\n",
       "    </tr>\n",
       "    <tr>\n",
       "      <th>662</th>\n",
       "      <td>Fight Club</td>\n",
       "      <td>8.3</td>\n",
       "    </tr>\n",
       "    <tr>\n",
       "      <th>2170</th>\n",
       "      <td>Psycho</td>\n",
       "      <td>8.2</td>\n",
       "    </tr>\n",
       "    <tr>\n",
       "      <th>1847</th>\n",
       "      <td>GoodFellas</td>\n",
       "      <td>8.2</td>\n",
       "    </tr>\n",
       "  </tbody>\n",
       "</table>\n",
       "</div>"
      ],
      "text/plain": [
       "                original_title  vote_average\n",
       "1881  The Shawshank Redemption           8.5\n",
       "3337             The Godfather           8.4\n",
       "2294                  千と千尋の神隠し           8.3\n",
       "3865                  Whiplash           8.3\n",
       "2731    The Godfather: Part II           8.3\n",
       "3232              Pulp Fiction           8.3\n",
       "1818          Schindler's List           8.3\n",
       "662                 Fight Club           8.3\n",
       "2170                    Psycho           8.2\n",
       "1847                GoodFellas           8.2"
      ]
     },
     "execution_count": 4,
     "metadata": {},
     "output_type": "execute_result"
    }
   ],
   "source": [
    "third_quan = movies['vote_count'].quantile(0.75) # obliczam 3 kwantyl dla rozkładu liczby głosów\n",
    "\n",
    "third_quan1 = movies[movies['vote_count'] > third_quan] # oceniam, które filmy mają vote_count większą od third_quan\n",
    "\n",
    "third_quan1.sort_values(by='vote_average', ascending=False, inplace=True) # sortuję listę po średniej wartości głosów malejąco\n",
    "\n",
    "third_quan1[['original_title','vote_average']].head(10) # wyświetlam 1o najwyżej ocenianych filmów "
   ]
  },
  {
   "cell_type": "markdown",
   "id": "c848f73a",
   "metadata": {},
   "source": [
    "Pogrupuj tabelę w taki sposób, aby otrzymać średni przychód (revenue) oraz średni budżet (budget) w danym roku dla filmów opublikowanych od 2010 (włącznie) do 2016 roku (włącznie). Następnie na tej podstawie stwórz wykres, w którym średnie przychody są wykresem kolumnowym, a średni budżet wykresem liniowym na tych samych osiach. Sformatuj odpowiednio oś X oraz oś Y. Dodaj tytuł wykresu, oraz legendę, która znajduje się w prawym górnym rogu płótna, lecz poza obszarem osi."
   ]
  },
  {
   "cell_type": "code",
   "execution_count": 5,
   "id": "6f7d0a73",
   "metadata": {},
   "outputs": [
    {
     "name": "stderr",
     "output_type": "stream",
     "text": [
      "C:\\Users\\Marcin\\AppData\\Local\\Temp\\ipykernel_9572\\3096081379.py:7: SettingWithCopyWarning: \n",
      "A value is trying to be set on a copy of a slice from a DataFrame.\n",
      "Try using .loc[row_indexer,col_indexer] = value instead\n",
      "\n",
      "See the caveats in the documentation: https://pandas.pydata.org/pandas-docs/stable/user_guide/indexing.html#returning-a-view-versus-a-copy\n",
      "  movie_in_10_16['release_date'] = movie_in_10_16['release_date'].dt.year\n"
     ]
    },
    {
     "data": {
      "image/png": "[encoded data removed]",
      "text/plain": [
       "<Figure size 432x288 with 2 Axes>"
      ]
     },
     "metadata": {
      "needs_background": "light"
     },
     "output_type": "display_data"
    }
   ],
   "source": [
    "movies['release_date'] = pd.to_datetime(movies['release_date'], format='%Y-%m-%d') # zmieniam foramt daty,aby móc ją wykorzystać do grupowania\n",
    "\n",
    "movie_in_10_16 = movies[(movies['release_date'] >= '2010-01-01') & (movies['release_date'] <= '2016-12-31')] #tabela filmów z przedziału 2010-2016\n",
    "\n",
    "\n",
    "\n",
    "movie_in_10_16['release_date'] = movie_in_10_16['release_date'].dt.year\n",
    "avg_years = movie_in_10_16.groupby('release_date').mean() #grupujemy tabelę, aby otrzymać średnią wartości w poszczególnych latach (dt.year)\n",
    "\n",
    "x = avg_years.index # w tabeli t3 indeksem są lata\n",
    "y = avg_years['budget'] # ustalam y dla wykresu ze średnią budżetu\n",
    "y2 = avg_years['revenue'] # ustalam y dla wykresu ze średnią przychodu\n",
    "\n",
    "# tworzę wykres\n",
    "\n",
    "fig, ax= plt.subplots()\n",
    "axes = fig.add_axes([0,0,1,1])\n",
    "axes.plot(x, y, color='red', linewidth = 3, label='budget')\n",
    "axes.bar(x, y2, color='blue', alpha = 0.7, label='revenue')\n",
    "plt.title('Średni przychód i budżet filmów w latach 2010-2016')\n",
    "\n",
    "def million(x, pos):  # funkcja zmieniająca opis osi y\n",
    "    return '{:2.1f}M'.format(x*1e-6)\n",
    "\n",
    "formatter = plt.FuncFormatter(million)\n",
    "axes.yaxis.set_major_formatter(formatter) # zmieniamy opis osi y\n",
    "\n",
    "axes.legend(loc=(1.05,0.84))\n",
    "plt.show()\n"
   ]
  },
  {
   "cell_type": "markdown",
   "id": "7b593e67",
   "metadata": {},
   "source": [
    "Baza filmów zawiera kolumnę z id gatunku (genre_id). Na tej podstawie połącz ze sobą bazę filmów z bazą gatunków, tak aby w bazie filmów można było odczytać nazwę gatunku filmu."
   ]
  },
  {
   "cell_type": "code",
   "execution_count": 18,
   "id": "05f0107c",
   "metadata": {},
   "outputs": [
    {
     "data": {
      "text/html": [
       "<div>\n",
       "<style scoped>\n",
       "    .dataframe tbody tr th:only-of-type {\n",
       "        vertical-align: middle;\n",
       "    }\n",
       "\n",
       "    .dataframe tbody tr th {\n",
       "        vertical-align: top;\n",
       "    }\n",
       "\n",
       "    .dataframe thead th {\n",
       "        text-align: right;\n",
       "    }\n",
       "</style>\n",
       "<table border=\"1\" class=\"dataframe\">\n",
       "  <thead>\n",
       "    <tr style=\"text-align: right;\">\n",
       "      <th></th>\n",
       "      <th>original_title</th>\n",
       "      <th>genres</th>\n",
       "    </tr>\n",
       "  </thead>\n",
       "  <tbody>\n",
       "    <tr>\n",
       "      <th>0</th>\n",
       "      <td>Avatar</td>\n",
       "      <td>Action</td>\n",
       "    </tr>\n",
       "  </tbody>\n",
       "</table>\n",
       "</div>"
      ],
      "text/plain": [
       "  original_title  genres\n",
       "0         Avatar  Action"
      ]
     },
     "execution_count": 18,
     "metadata": {},
     "output_type": "execute_result"
    }
   ],
   "source": [
    "genres.rename(columns={'Unnamed: 0': 'genre_id'}, inplace=True)\n",
    "movies_2 = movies.merge(genres, how='inner', on='genre_id', copy=False)\n",
    "movies_2[['original_title', 'genres']].head(1)"
   ]
  },
  {
   "cell_type": "markdown",
   "id": "11b12903",
   "metadata": {},
   "source": [
    "Jaki gatunek filmu z bazy pojawia się w niej najczęściej? Ile filmów tego gatunku znajduje się w bazie?"
   ]
  },
  {
   "cell_type": "code",
   "execution_count": 7,
   "id": "09a2fdbb",
   "metadata": {},
   "outputs": [
    {
     "data": {
      "text/plain": [
       "Drama    1207\n",
       "Name: genres, dtype: int64"
      ]
     },
     "execution_count": 7,
     "metadata": {},
     "output_type": "execute_result"
    }
   ],
   "source": [
    "counts = movies_2['genres'].value_counts()\n",
    "counts.loc[counts == counts.max()]"
   ]
  },
  {
   "cell_type": "markdown",
   "id": "f2ac058e",
   "metadata": {},
   "source": [
    "Filmy, którego gatunku trwają średnio najdłużej (runtime)?"
   ]
  },
  {
   "cell_type": "code",
   "execution_count": 15,
   "id": "8877f149",
   "metadata": {},
   "outputs": [
    {
     "data": {
      "text/plain": [
       "genres\n",
       "History            133.960000\n",
       "War                126.125000\n",
       "Western            117.925926\n",
       "Drama              115.521559\n",
       "Adventure          113.061947\n",
       "Crime              112.143590\n",
       "TV Movie           110.500000\n",
       "Action             109.058355\n",
       "Science Fiction    109.031250\n",
       "Romance            107.094340\n",
       "Fantasy            106.487179\n",
       "Thriller           105.690722\n",
       "Music              102.852941\n",
       "Mystery            100.609756\n",
       "Comedy             100.464491\n",
       "Horror              94.753333\n",
       "Documentary         93.511364\n",
       "Family              89.803571\n",
       "Animation           89.552846\n",
       "Foreign             83.000000\n",
       "Name: runtime, dtype: float64"
      ]
     },
     "execution_count": 15,
     "metadata": {},
     "output_type": "execute_result"
    }
   ],
   "source": [
    "run_time = movies_2.groupby('genres')['runtime'].mean()\n",
    "run_time.sort_values(ascending=False)"
   ]
  },
  {
   "cell_type": "markdown",
   "id": "d7b79090",
   "metadata": {},
   "source": [
    "Stwórz histogram czasu trwania filmów z gatunku, który cechuje się największym średnim czasem trwania."
   ]
  },
  {
   "cell_type": "code",
   "execution_count": 47,
   "id": "e7c451f8",
   "metadata": {},
   "outputs": [
    {
     "data": {
      "text/plain": [
       "Text(0, 0.5, 'Liczba filmów w przedziale')"
      ]
     },
     "execution_count": 47,
     "metadata": {},
     "output_type": "execute_result"
    },
    {
     "data": {
      "image/png": "[encoded data removed]",
      "text/plain": [
       "<Figure size 432x288 with 1 Axes>"
      ]
     },
     "metadata": {
      "needs_background": "light"
     },
     "output_type": "display_data"
    }
   ],
   "source": [
    "longest_movie = movies_2[movies_2['genres'] == 'History']\n",
    "longest_movie.hist(column='runtime', bins=50)\n",
    "plt.xlabel(\"Długość filmu\")\n",
    "plt.ylabel(\"Liczba filmów w przedziale\")"
   ]
  },
  {
   "cell_type": "code",
   "execution_count": 38,
   "id": "f9be8899",
   "metadata": {},
   "outputs": [
    {
     "data": {
      "text/plain": [
       "<AxesSubplot:ylabel='Frequency'>"
      ]
     },
     "execution_count": 38,
     "metadata": {},
     "output_type": "execute_result"
    },
    {
     "data": {
      "image/png": "[encoded data removed]",
      "text/plain": [
       "<Figure size 432x288 with 1 Axes>"
      ]
     },
     "metadata": {
      "needs_background": "light"
     },
     "output_type": "display_data"
    }
   ],
   "source": [
    "longest_movie['runtime'].plot.hist()"
   ]
  },
  {
   "cell_type": "code",
   "execution_count": null,
   "id": "927c5ac7",
   "metadata": {},
   "outputs": [],
   "source": []
  }
 ],
 "metadata": {
  "kernelspec": {
   "display_name": "Python 3 (ipykernel)",
   "language": "python",
   "name": "python3"
  },
  "language_info": {
   "codemirror_mode": {
    "name": "ipython",
    "version": 3
   },
   "file_extension": ".py",
   "mimetype": "text/x-python",
   "name": "python",
   "nbconvert_exporter": "python",
   "pygments_lexer": "ipython3",
   "version": "3.10.5"
  }
 },
 "nbformat": 4,
 "nbformat_minor": 5
}
